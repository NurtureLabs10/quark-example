{
 "cells": [
  {
   "cell_type": "code",
   "execution_count": null,
   "id": "eaf8a550",
   "metadata": {
    "scrolled": false
   },
   "outputs": [],
   "source": [
    "from quark.tasks import periodic_5_update_all_events\n",
    "\n",
    "from quark.indexer import clear_all\n",
    "clear_all()\n",
    "\n",
    "periodic_5_update_all_events()"
   ]
  }
 ],
 "metadata": {
  "kernelspec": {
   "display_name": "Django Shell-Plus",
   "language": "python",
   "name": "django_extensions"
  },
  "language_info": {
   "codemirror_mode": {
    "name": "ipython",
    "version": 3
   },
   "file_extension": ".py",
   "mimetype": "text/x-python",
   "name": "python",
   "nbconvert_exporter": "python",
   "pygments_lexer": "ipython3",
   "version": "3.8.8"
  }
 },
 "nbformat": 4,
 "nbformat_minor": 5
}
